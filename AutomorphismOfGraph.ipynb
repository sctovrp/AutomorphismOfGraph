{
 "cells": [
  {
   "cell_type": "code",
   "execution_count": 1,
   "metadata": {},
   "outputs": [],
   "source": [
    "import numpy as np\n",
    "import networkx as nx\n",
    "import matplotlib.pyplot as plt\n",
    "\n",
    "import json "
   ]
  },
  {
   "cell_type": "markdown",
   "metadata": {},
   "source": [
    "# Funciones"
   ]
  },
  {
   "cell_type": "code",
   "execution_count": 2,
   "metadata": {},
   "outputs": [],
   "source": [
    "def permutacion(arr):  \n",
    "    if len(arr) == 0: \n",
    "        return [] \n",
    "    \n",
    "    if len(arr) == 1: \n",
    "        return [arr] \n",
    "\n",
    "    res = []\n",
    "   \n",
    "    for i in range(len(arr)): \n",
    "        m = arr[i] \n",
    "        rems = arr[:i] + arr[i+1:] \n",
    "        \n",
    "        for p in permutacion(rems): \n",
    "            res.append([m] + p) \n",
    "            \n",
    "    return res\n",
    "\n",
    "def verificar_grafo(g, q):\n",
    "    nq = q['n']\n",
    "    vq = q['v']\n",
    "    res = True\n",
    "    \n",
    "    for u in vq:\n",
    "        for v in vq[u]:\n",
    "            ver_vertice = False\n",
    "            \n",
    "            n = g['n']\n",
    "            vtc = g['v']\n",
    "\n",
    "            if u in n and v in n:\n",
    "                ver_vertice = v in vtc[u] or u in vtc[v] or u == v\n",
    "            \n",
    "            if not ver_vertice: \n",
    "                return False\n",
    "    return True\n",
    "\n",
    "def permutar_grafo(p, g):\n",
    "    vp = [] \n",
    "    \n",
    "    for i, v in enumerate(p):\n",
    "        u = g['n'][i] \n",
    "        x = {u, v}\n",
    "        \n",
    "        if x not in vp:\n",
    "            vp.append(x)\n",
    "            \n",
    "            gString = json.dumps(g, ensure_ascii=True)\n",
    "    \n",
    "            x = gString.index('n') + len('n')\n",
    "            y = gString.index('v') + len('v')    \n",
    "\n",
    "            gString = gString[:x] + gString[x:y - len('v')].replace(str(u), \"TEMPORAL\") + gString[y - len('v'): y] + gString[y:].replace(str(u), \"TEMPORAL\")\n",
    "            gString = gString[:x] + gString[x:y - len('v')].replace(str(v), str(u)) + gString[y - len('v'): y] + gString[y:].replace(str(v), str(u))\n",
    "            gString = gString[:x] + gString[x:y - len('v')].replace(\"TEMPORAL\", str(v)) + gString[y - len('v'): y] + gString[y:].replace(\"TEMPORAL\", str(v))\n",
    "            \n",
    "            g = json.loads(gString)\n",
    "            \n",
    "    return(g)\n",
    "\n",
    "def aut(g):\n",
    "    grafos = []\n",
    "    permutaciones = []\n",
    "    posilbes_permutaciones = permutacion(grafo['n'])\n",
    "    \n",
    "    for x in posilbes_permutaciones:\n",
    "        q = permutar_grafo(x, grafo)\n",
    "        \n",
    "        if verificar_grafo(grafo, q):\n",
    "            permutaciones.append(x)\n",
    "            grafos.append(q)\n",
    "    \n",
    "    return {'permutaciones' : permutaciones, \n",
    "            'grafo' : grafos}"
   ]
  },
  {
   "cell_type": "markdown",
   "metadata": {},
   "source": [
    "# Grafos"
   ]
  },
  {
   "cell_type": "code",
   "execution_count": 3,
   "metadata": {},
   "outputs": [],
   "source": [
    "grafo = {'n':['a', 'b', 'c', 'd'],\n",
    "         'v': {'a':['b', 'd'], \n",
    "              'b':['a', 'c'], \n",
    "              'c':['b', 'd'],\n",
    "              'd':['c', 'a']}}\n",
    "\n",
    "grafo = {'n':['a', 'b', 'c', 'd', 'e'],\n",
    "         'v': {'a':['b'], \n",
    "              'b':['c', 'd'],\n",
    "              'c':['b', 'd'],\n",
    "              'd':['c', 'e'],\n",
    "              'e':['d']}}"
   ]
  },
  {
   "cell_type": "markdown",
   "metadata": {},
   "source": [
    "# Crear el grupo de automorfos"
   ]
  },
  {
   "cell_type": "code",
   "execution_count": 4,
   "metadata": {},
   "outputs": [],
   "source": [
    "aut = aut(grafo)\n",
    "aut['grafo'].insert(0, grafo)\n",
    "aut['permutaciones'].insert(0, \"grafo\")"
   ]
  },
  {
   "cell_type": "markdown",
   "metadata": {},
   "source": [
    "# Graficar aut(g)"
   ]
  },
  {
   "cell_type": "code",
   "execution_count": 14,
   "metadata": {},
   "outputs": [
    {
     "name": "stdout",
     "output_type": "stream",
     "text": [
      "grafo\n"
     ]
    },
    {
     "data": {
      "image/png": "[encoded data removed]",
      "text/plain": [
       "<Figure size 432x288 with 1 Axes>"
      ]
     },
     "metadata": {},
     "output_type": "display_data"
    },
    {
     "name": "stdout",
     "output_type": "stream",
     "text": [
      "['a', 'b', 'c', 'd', 'e']\n"
     ]
    },
    {
     "data": {
      "image/png": "[encoded data removed]",
      "text/plain": [
       "<Figure size 432x288 with 1 Axes>"
      ]
     },
     "metadata": {},
     "output_type": "display_data"
    },
    {
     "name": "stdout",
     "output_type": "stream",
     "text": [
      "['e', 'd', 'c', 'b', 'a']\n"
     ]
    },
    {
     "data": {
      "image/png": "[encoded data removed]",
      "text/plain": [
       "<Figure size 432x288 with 1 Axes>"
      ]
     },
     "metadata": {},
     "output_type": "display_data"
    }
   ],
   "source": [
    "gps = []\n",
    "\n",
    "for x in aut['grafo']:\n",
    "    g = nx.Graph()\n",
    "    for v in x['v']:\n",
    "        for u in x['v'][v]:\n",
    "            g.add_edge(v, u)\n",
    "            \n",
    "    gps.append(g)\n",
    "            \n",
    "for i, g in enumerate(gps):\n",
    "    print(aut['permutaciones'][i])\n",
    "    nx.draw(g, cmap = plt.get_cmap('jet'), with_labels = True, node_color='r', node_size = 700)\n",
    "    plt.show()"
   ]
  },
  {
   "cell_type": "markdown",
   "metadata": {},
   "source": [
    "# Imprimir el grupo aut(g)"
   ]
  },
  {
   "cell_type": "code",
   "execution_count": 17,
   "metadata": {},
   "outputs": [
    {
     "name": "stdout",
     "output_type": "stream",
     "text": [
      "aut(g) = {() , (a, e)(b, d)}\n"
     ]
    }
   ],
   "source": [
    "pmt_automorf = []\n",
    "\n",
    "for i, x in enumerate(aut['permutaciones']):\n",
    "    if i > 0:\n",
    "        rs = []\n",
    "        for i, u in enumerate(x):\n",
    "            v = grafo['n'][i]\n",
    "            if u is not v and {v, u} not in rs:\n",
    "                rs.append({v, u})\n",
    "        pmt_automorf.append(rs)\n",
    "        \n",
    "string = \"aut(g) = {\"\n",
    "\n",
    "for i, x in enumerate(pmt_automorf):        \n",
    "    if i is 0:\n",
    "        string += \"()\"\n",
    "    else:\n",
    "        string += str(x).replace(\"{\", \"(\").replace(\"}\", \")\").replace(\"[\", \"\").replace(\"]\", \"\").replace(\"), \", \")\").replace(\"'\", \"\")\n",
    "    if i is len(pmt_automorf) - 1:\n",
    "        string += \"}\"\n",
    "    else:\n",
    "        string += \" , \"\n",
    "        \n",
    "print(string)"
   ]
  }
 ],
 "metadata": {
  "kernelspec": {
   "display_name": "Python 3",
   "language": "python",
   "name": "python3"
  },
  "language_info": {
   "codemirror_mode": {
    "name": "ipython",
    "version": 3
   },
   "file_extension": ".py",
   "mimetype": "text/x-python",
   "name": "python",
   "nbconvert_exporter": "python",
   "pygments_lexer": "ipython3",
   "version": "3.7.6"
  }
 },
 "nbformat": 4,
 "nbformat_minor": 4
}
